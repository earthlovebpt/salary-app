{
 "cells": [
  {
   "cell_type": "code",
   "execution_count": 283,
   "metadata": {},
   "outputs": [],
   "source": [
    "import pandas as pd\n",
    "from sklearn.ensemble import GradientBoostingClassifier\n",
    "from sklearn.model_selection import StratifiedKFold\n",
    "import lightgbm as lgb\n",
    "from sklearn.preprocessing import LabelEncoder,MultiLabelBinarizer, OneHotEncoder\n",
    "from sklearn.metrics import mean_absolute_error, mean_squared_error, mean_absolute_percentage_error\n",
    "import matplotlib.pyplot as plt\n",
    "import numpy as np\n",
    "from sklearn.linear_model import LinearRegression\n",
    "from sklearn.ensemble import RandomForestRegressor\n",
    "from tqdm import tqdm\n",
    "import warnings\n",
    "import json\n",
    "\n",
    "warnings.filterwarnings(\"ignore\")\n",
    "pd.set_option('display.precision', 2)\n",
    "\n",
    "YEAR = 2023\n",
    "CUTOFF = 400\n",
    "N_FOLDS = 5\n",
    "RANDOM_STATE = 42"
   ]
  },
  {
   "cell_type": "markdown",
   "metadata": {},
   "source": [
    "# 1. Prepare a dataset"
   ]
  },
  {
   "cell_type": "code",
   "execution_count": 284,
   "metadata": {},
   "outputs": [
    {
     "data": {
      "text/html": [
       "<div>\n",
       "<style scoped>\n",
       "    .dataframe tbody tr th:only-of-type {\n",
       "        vertical-align: middle;\n",
       "    }\n",
       "\n",
       "    .dataframe tbody tr th {\n",
       "        vertical-align: top;\n",
       "    }\n",
       "\n",
       "    .dataframe thead th {\n",
       "        text-align: right;\n",
       "    }\n",
       "</style>\n",
       "<table border=\"1\" class=\"dataframe\">\n",
       "  <thead>\n",
       "    <tr style=\"text-align: right;\">\n",
       "      <th></th>\n",
       "      <th>Country</th>\n",
       "      <th>EdLevel</th>\n",
       "      <th>YearsCodePro</th>\n",
       "      <th>Employment</th>\n",
       "      <th>Salary</th>\n",
       "      <th>DevType</th>\n",
       "      <th>OrgSize</th>\n",
       "      <th>Age</th>\n",
       "    </tr>\n",
       "  </thead>\n",
       "  <tbody>\n",
       "    <tr>\n",
       "      <th>0</th>\n",
       "      <td>NaN</td>\n",
       "      <td>NaN</td>\n",
       "      <td>NaN</td>\n",
       "      <td>NaN</td>\n",
       "      <td>NaN</td>\n",
       "      <td>NaN</td>\n",
       "      <td>NaN</td>\n",
       "      <td>18-24 years old</td>\n",
       "    </tr>\n",
       "    <tr>\n",
       "      <th>1</th>\n",
       "      <td>United States of America</td>\n",
       "      <td>Bachelor’s degree (B.A., B.S., B.Eng., etc.)</td>\n",
       "      <td>9</td>\n",
       "      <td>Employed, full-time</td>\n",
       "      <td>285000.0</td>\n",
       "      <td>Senior Executive (C-Suite, VP, etc.)</td>\n",
       "      <td>2 to 9 employees</td>\n",
       "      <td>25-34 years old</td>\n",
       "    </tr>\n",
       "    <tr>\n",
       "      <th>2</th>\n",
       "      <td>United States of America</td>\n",
       "      <td>Bachelor’s degree (B.A., B.S., B.Eng., etc.)</td>\n",
       "      <td>23</td>\n",
       "      <td>Employed, full-time</td>\n",
       "      <td>250000.0</td>\n",
       "      <td>Developer, back-end</td>\n",
       "      <td>5,000 to 9,999 employees</td>\n",
       "      <td>45-54 years old</td>\n",
       "    </tr>\n",
       "    <tr>\n",
       "      <th>3</th>\n",
       "      <td>United States of America</td>\n",
       "      <td>Bachelor’s degree (B.A., B.S., B.Eng., etc.)</td>\n",
       "      <td>7</td>\n",
       "      <td>Employed, full-time</td>\n",
       "      <td>156000.0</td>\n",
       "      <td>Developer, front-end</td>\n",
       "      <td>100 to 499 employees</td>\n",
       "      <td>25-34 years old</td>\n",
       "    </tr>\n",
       "    <tr>\n",
       "      <th>4</th>\n",
       "      <td>Philippines</td>\n",
       "      <td>Bachelor’s degree (B.A., B.S., B.Eng., etc.)</td>\n",
       "      <td>4</td>\n",
       "      <td>Employed, full-time;Independent contractor, fr...</td>\n",
       "      <td>23456.0</td>\n",
       "      <td>Developer, full-stack</td>\n",
       "      <td>20 to 99 employees</td>\n",
       "      <td>25-34 years old</td>\n",
       "    </tr>\n",
       "  </tbody>\n",
       "</table>\n",
       "</div>"
      ],
      "text/plain": [
       "                    Country                                       EdLevel  \\\n",
       "0                       NaN                                           NaN   \n",
       "1  United States of America  Bachelor’s degree (B.A., B.S., B.Eng., etc.)   \n",
       "2  United States of America  Bachelor’s degree (B.A., B.S., B.Eng., etc.)   \n",
       "3  United States of America  Bachelor’s degree (B.A., B.S., B.Eng., etc.)   \n",
       "4               Philippines  Bachelor’s degree (B.A., B.S., B.Eng., etc.)   \n",
       "\n",
       "  YearsCodePro                                         Employment    Salary  \\\n",
       "0          NaN                                                NaN       NaN   \n",
       "1            9                                Employed, full-time  285000.0   \n",
       "2           23                                Employed, full-time  250000.0   \n",
       "3            7                                Employed, full-time  156000.0   \n",
       "4            4  Employed, full-time;Independent contractor, fr...   23456.0   \n",
       "\n",
       "                                DevType                   OrgSize  \\\n",
       "0                                   NaN                       NaN   \n",
       "1  Senior Executive (C-Suite, VP, etc.)          2 to 9 employees   \n",
       "2                   Developer, back-end  5,000 to 9,999 employees   \n",
       "3                  Developer, front-end      100 to 499 employees   \n",
       "4                 Developer, full-stack        20 to 99 employees   \n",
       "\n",
       "               Age  \n",
       "0  18-24 years old  \n",
       "1  25-34 years old  \n",
       "2  45-54 years old  \n",
       "3  25-34 years old  \n",
       "4  25-34 years old  "
      ]
     },
     "execution_count": 284,
     "metadata": {},
     "output_type": "execute_result"
    }
   ],
   "source": [
    "df = pd.read_csv(f\"stack-overflow-developer-survey-{YEAR}/survey_results_public.csv\")\n",
    "\n",
    "# Select the feature columns.\n",
    "df = df[[\"Country\", \"EdLevel\", \"YearsCodePro\", \"Employment\", \"ConvertedCompYearly\", \"DevType\", \"OrgSize\", \"Age\"]]\n",
    "df = df.rename({\"ConvertedCompYearly\": \"Salary\"}, axis=1)\n",
    "df.head()"
   ]
  },
  {
   "cell_type": "code",
   "execution_count": 285,
   "metadata": {},
   "outputs": [
    {
     "name": "stdout",
     "output_type": "stream",
     "text": [
      "Country         0\n",
      "EdLevel         0\n",
      "YearsCodePro    0\n",
      "Employment      0\n",
      "Salary          0\n",
      "DevType         0\n",
      "OrgSize         0\n",
      "Age             0\n",
      "dtype: int64\n",
      "Total: (47701, 8)\n"
     ]
    }
   ],
   "source": [
    "# Remove NaN values\n",
    "dropped_df = df.dropna()\n",
    "print(dropped_df.isna().sum())\n",
    "print(f\"Total: {dropped_df.shape}\")"
   ]
  },
  {
   "cell_type": "code",
   "execution_count": 286,
   "metadata": {},
   "outputs": [],
   "source": [
    "# Select only full-time employment.\n",
    "dropped_df[\"full_time\"] = dropped_df[\"Employment\"].apply(lambda x: \"full-time\" in x)\n",
    "dropped_df = dropped_df[dropped_df[\"full_time\"]]"
   ]
  },
  {
   "cell_type": "code",
   "execution_count": 287,
   "metadata": {},
   "outputs": [
    {
     "data": {
      "text/plain": [
       "Country\n",
       "United States of America                                11261\n",
       "Germany                                                  3399\n",
       "United Kingdom of Great Britain and Northern Ireland     3215\n",
       "Canada                                                   1943\n",
       "India                                                    1743\n",
       "France                                                   1547\n",
       "Brazil                                                   1113\n",
       "Netherlands                                              1086\n",
       "Australia                                                1071\n",
       "Spain                                                    1019\n",
       "Poland                                                    958\n",
       "Sweden                                                    946\n",
       "Italy                                                     876\n",
       "Switzerland                                               539\n",
       "Denmark                                                   468\n",
       "Norway                                                    457\n",
       "Israel                                                    438\n",
       "Portugal                                                  436\n",
       "Austria                                                   421\n",
       "Other                                                       0\n",
       "Name: count, dtype: int64"
      ]
     },
     "execution_count": 287,
     "metadata": {},
     "output_type": "execute_result"
    }
   ],
   "source": [
    "# Group minor countires into \"Other\".\n",
    "def remove_minor_categories(categories, cutoff):\n",
    "    categories_dict = {}\n",
    "    for c,value in categories.items():\n",
    "        if value >= cutoff:\n",
    "            categories_dict[c] = c\n",
    "        else:\n",
    "            categories_dict[c] = 'Other'\n",
    "    return categories_dict\n",
    "\n",
    "countries_dict = remove_minor_categories(dropped_df[\"Country\"].value_counts(), CUTOFF)\n",
    "dropped_df[\"Country\"] = dropped_df[\"Country\"].map(countries_dict).astype(\"category\")\n",
    "dropped_df = dropped_df[dropped_df[\"Country\"] != \"Other\"]\n",
    "dropped_df[\"Country\"]\n",
    "dropped_df[\"Country\"].value_counts()"
   ]
  },
  {
   "cell_type": "code",
   "execution_count": 288,
   "metadata": {},
   "outputs": [
    {
     "data": {
      "text/plain": [
       "DevType\n",
       "Developer, full-stack                            11546\n",
       "Developer, back-end                               6486\n",
       "Other                                             3819\n",
       "Developer, front-end                              2084\n",
       "Developer, desktop or enterprise applications     1680\n",
       "Engineering manager                               1035\n",
       "Developer, mobile                                 1003\n",
       "Developer, embedded applications or devices        991\n",
       "DevOps specialist                                  720\n",
       "Data scientist or machine learning specialist      719\n",
       "Engineer, data                                     657\n",
       "Research & Development role                        606\n",
       "Cloud infrastructure engineer                      603\n",
       "Senior Executive (C-Suite, VP, etc.)               525\n",
       "Academic researcher                                462\n",
       "Name: count, dtype: int64"
      ]
     },
     "execution_count": 288,
     "metadata": {},
     "output_type": "execute_result"
    }
   ],
   "source": [
    "# Group minor types of dev into \"Other\".\n",
    "dev_dict = remove_minor_categories(dropped_df[\"DevType\"].value_counts(), CUTOFF)\n",
    "dropped_df[\"DevType\"] = dropped_df[\"DevType\"].map(dev_dict)\n",
    "dropped_df[\"DevType\"] = dropped_df[\"DevType\"].apply(lambda x: \"Other\" if \"Other\" in x else x).astype(\"category\")\n",
    "dropped_df[\"DevType\"].value_counts()"
   ]
  },
  {
   "cell_type": "code",
   "execution_count": 289,
   "metadata": {},
   "outputs": [],
   "source": [
    "# Change years of experience into number.\n",
    "def experience2number(year):\n",
    "    if year == \"Less than 1 year\":\n",
    "        return 0\n",
    "    elif year == \"More than 50 years\":\n",
    "        return 50\n",
    "    else:\n",
    "        return year\n",
    "\n",
    "dropped_df[\"YearsCodePro\"] = dropped_df[\"YearsCodePro\"].apply(experience2number).astype(int)"
   ]
  },
  {
   "cell_type": "code",
   "execution_count": 290,
   "metadata": {},
   "outputs": [],
   "source": [
    "# Group the educational level.\n",
    "def group_EdLevel(x):\n",
    "    if \"Bachelor\" in x:\n",
    "        return \"Bachelor's degree\"\n",
    "    elif \"Master\" in x:\n",
    "        return \"Master's degree\"\n",
    "    elif \"Professional degree\" in x:\n",
    "        return \"Professional degree\"\n",
    "    return \"Other\"\n",
    "\n",
    "dropped_df[\"EdLevel\"] = dropped_df[\"EdLevel\"].apply(group_EdLevel).astype(\"category\")"
   ]
  },
  {
   "cell_type": "code",
   "execution_count": 291,
   "metadata": {},
   "outputs": [
    {
     "name": "stdout",
     "output_type": "stream",
     "text": [
      "(30562, 9)\n"
     ]
    }
   ],
   "source": [
    "# Remove outliers using IQR (Inter Quartile Range)\n",
    "q1 = dropped_df['Salary'].quantile(0.25)\n",
    "q3 = dropped_df['Salary'].quantile(0.75)\n",
    "iqr = q3 - q1\n",
    "lower = q1 - 1.5*iqr\n",
    "upper = q3 + 1.5*iqr\n",
    "\n",
    "filtered_df = dropped_df[(dropped_df[\"Salary\"]>lower) & (dropped_df[\"Salary\"]<upper)]\n",
    "filtered_df = filtered_df[filtered_df[\"YearsCodePro\"]<=30]\n",
    "print(filtered_df.shape)"
   ]
  },
  {
   "cell_type": "code",
   "execution_count": 292,
   "metadata": {},
   "outputs": [
    {
     "data": {
      "image/png": "[encoded data removed]",
      "text/plain": [
       "<Figure size 1200x700 with 1 Axes>"
      ]
     },
     "metadata": {},
     "output_type": "display_data"
    }
   ],
   "source": [
    "fig, ax = plt.subplots(1,1, figsize=(12, 7))\n",
    "filtered_df.boxplot('Salary', 'Country', ax=ax)\n",
    "plt.suptitle('Salary v.s. Country')\n",
    "plt.title('')\n",
    "plt.ylabel('Salary')\n",
    "plt.xticks(rotation=90)\n",
    "plt.show()"
   ]
  },
  {
   "cell_type": "code",
   "execution_count": 293,
   "metadata": {},
   "outputs": [],
   "source": [
    "filtered_df[\"OrgSize\"] = filtered_df[\"OrgSize\"].astype(\"category\")\n",
    "filtered_df[\"Age\"] = filtered_df[\"Age\"].astype(\"category\")"
   ]
  },
  {
   "cell_type": "code",
   "execution_count": 294,
   "metadata": {},
   "outputs": [],
   "source": [
    "numeric_cols = [ \"YearsCodePro\"]\n",
    "categorical_cols = [\"Country\", \"EdLevel\", \"DevType\", \"OrgSize\", \"Age\"]\n",
    "target_col = \"Salary\""
   ]
  },
  {
   "cell_type": "code",
   "execution_count": 320,
   "metadata": {},
   "outputs": [],
   "source": [
    "choice_dict = {}\n",
    "\n",
    "for col in categorical_cols:\n",
    "    choice_dict[col] = list(filtered_df[col].unique())"
   ]
  },
  {
   "cell_type": "code",
   "execution_count": 321,
   "metadata": {},
   "outputs": [],
   "source": [
    "with open(\"choices.json\", \"w\") as file:\n",
    "    json.dump(choice_dict, file)"
   ]
  },
  {
   "cell_type": "code",
   "execution_count": 319,
   "metadata": {},
   "outputs": [
    {
     "data": {
      "text/plain": [
       "['Developer, back-end',\n",
       " 'Developer, front-end',\n",
       " 'Developer, full-stack',\n",
       " 'Other',\n",
       " 'Data scientist or machine learning specialist',\n",
       " 'Research & Development role',\n",
       " 'Developer, desktop or enterprise applications',\n",
       " 'Engineer, data',\n",
       " 'Developer, embedded applications or devices',\n",
       " 'Engineering manager',\n",
       " 'Cloud infrastructure engineer',\n",
       " 'Developer, mobile',\n",
       " 'DevOps specialist',\n",
       " 'Senior Executive (C-Suite, VP, etc.)',\n",
       " 'Academic researcher']"
      ]
     },
     "execution_count": 319,
     "metadata": {},
     "output_type": "execute_result"
    }
   ],
   "source": [
    "choice_dict[\"DevType\"]"
   ]
  },
  {
   "cell_type": "markdown",
   "metadata": {},
   "source": [
    "# 2. Train the model"
   ]
  },
  {
   "cell_type": "code",
   "execution_count": 297,
   "metadata": {},
   "outputs": [],
   "source": [
    "compare_models_result = {}"
   ]
  },
  {
   "cell_type": "code",
   "execution_count": 298,
   "metadata": {},
   "outputs": [
    {
     "data": {
      "text/plain": [
       "fold\n",
       "0    6113\n",
       "1    6113\n",
       "2    6112\n",
       "4    6112\n",
       "3    6112\n",
       "Name: count, dtype: int64"
      ]
     },
     "execution_count": 298,
     "metadata": {},
     "output_type": "execute_result"
    }
   ],
   "source": [
    "def create_folds(df, n_folds):\n",
    "    df[\"fold\"] = -1\n",
    "    kf = StratifiedKFold(n_splits=n_folds, shuffle=True, random_state=RANDOM_STATE)\n",
    "    for i, (train , val) in enumerate(kf.split(X=df, y=df[\"Salary\"].values)):\n",
    "        df.loc[val, 'fold'] = i\n",
    "    return df\n",
    "\n",
    "train_df = filtered_df.copy().reset_index(drop=True)\n",
    "train_df = create_folds(train_df, N_FOLDS)\n",
    "train_df[\"fold\"].value_counts()"
   ]
  },
  {
   "cell_type": "code",
   "execution_count": 299,
   "metadata": {},
   "outputs": [],
   "source": [
    "train_df = pd.concat(\n",
    "    (train_df, pd.get_dummies(train_df[categorical_cols])),\n",
    "    axis=1\n",
    "    )"
   ]
  },
  {
   "cell_type": "markdown",
   "metadata": {},
   "source": [
    "### Linear Regression"
   ]
  },
  {
   "cell_type": "code",
   "execution_count": 300,
   "metadata": {},
   "outputs": [
    {
     "name": "stderr",
     "output_type": "stream",
     "text": [
      "100%|██████████| 5/5 [00:00<00:00, 12.13it/s]\n"
     ]
    }
   ],
   "source": [
    "drop_cols = categorical_cols + [\"Employment\",\"Salary\",\"DevType\",'OrgSize', 'Age','fold']\n",
    "oof_df = pd.DataFrame()\n",
    "result_dict = {\n",
    "    \"fold\":[],\n",
    "    \"mae\":[],\n",
    "    \"rmse\":[],\n",
    "    \"mape\":[]\n",
    "}\n",
    "\n",
    "for fold in tqdm(range(N_FOLDS)):\n",
    "    train_data = train_df[train_df['fold']!=fold].reset_index(drop=True)\n",
    "    val_data = train_df[train_df['fold']==fold].reset_index(drop=True)\n",
    "\n",
    "    X_train = train_data.drop(columns=drop_cols)\n",
    "    y_train = train_data[target_col]\n",
    "    X_val = val_data.drop(columns=drop_cols)\n",
    "    y_val = val_data[target_col]\n",
    "    \n",
    "\n",
    "    model = LinearRegression()\n",
    "    model.fit(X_train, y_train)\n",
    "\n",
    "    prediction = model.predict(X_val)\n",
    "    val_data[\"pred\"] = prediction\n",
    "    oof_df = pd.concat([oof_df,val_data])\n",
    "\n",
    "    mae = mean_absolute_error(y_true=y_val, y_pred=prediction)\n",
    "    mse = mean_squared_error(y_true=y_val, y_pred=prediction)\n",
    "    mape = mean_absolute_percentage_error(y_true=y_val, y_pred=prediction)\n",
    "    result_dict[\"fold\"].append(fold)\n",
    "    result_dict[\"mae\"].append(mae)\n",
    "    result_dict[\"rmse\"].append(mse**(1/2))\n",
    "    result_dict[\"mape\"].append(mape)\n"
   ]
  },
  {
   "cell_type": "code",
   "execution_count": 301,
   "metadata": {},
   "outputs": [
    {
     "data": {
      "text/html": [
       "<div>\n",
       "<style scoped>\n",
       "    .dataframe tbody tr th:only-of-type {\n",
       "        vertical-align: middle;\n",
       "    }\n",
       "\n",
       "    .dataframe tbody tr th {\n",
       "        vertical-align: top;\n",
       "    }\n",
       "\n",
       "    .dataframe thead th {\n",
       "        text-align: right;\n",
       "    }\n",
       "</style>\n",
       "<table border=\"1\" class=\"dataframe\">\n",
       "  <thead>\n",
       "    <tr style=\"text-align: right;\">\n",
       "      <th></th>\n",
       "      <th>fold</th>\n",
       "      <th>mae</th>\n",
       "      <th>rmse</th>\n",
       "      <th>mape</th>\n",
       "    </tr>\n",
       "  </thead>\n",
       "  <tbody>\n",
       "    <tr>\n",
       "      <th>0</th>\n",
       "      <td>0</td>\n",
       "      <td>25882.63</td>\n",
       "      <td>35211.17</td>\n",
       "      <td>11.20</td>\n",
       "    </tr>\n",
       "    <tr>\n",
       "      <th>1</th>\n",
       "      <td>1</td>\n",
       "      <td>25652.78</td>\n",
       "      <td>35115.70</td>\n",
       "      <td>23.36</td>\n",
       "    </tr>\n",
       "    <tr>\n",
       "      <th>2</th>\n",
       "      <td>2</td>\n",
       "      <td>25872.32</td>\n",
       "      <td>35841.36</td>\n",
       "      <td>7.18</td>\n",
       "    </tr>\n",
       "    <tr>\n",
       "      <th>3</th>\n",
       "      <td>3</td>\n",
       "      <td>26476.37</td>\n",
       "      <td>36156.42</td>\n",
       "      <td>29.08</td>\n",
       "    </tr>\n",
       "    <tr>\n",
       "      <th>4</th>\n",
       "      <td>4</td>\n",
       "      <td>25654.96</td>\n",
       "      <td>35308.00</td>\n",
       "      <td>19.14</td>\n",
       "    </tr>\n",
       "  </tbody>\n",
       "</table>\n",
       "</div>"
      ],
      "text/plain": [
       "   fold       mae      rmse   mape\n",
       "0     0  25882.63  35211.17  11.20\n",
       "1     1  25652.78  35115.70  23.36\n",
       "2     2  25872.32  35841.36   7.18\n",
       "3     3  26476.37  36156.42  29.08\n",
       "4     4  25654.96  35308.00  19.14"
      ]
     },
     "execution_count": 301,
     "metadata": {},
     "output_type": "execute_result"
    }
   ],
   "source": [
    "result_df = pd.DataFrame(result_dict)\n",
    "result_df"
   ]
  },
  {
   "cell_type": "code",
   "execution_count": 302,
   "metadata": {},
   "outputs": [],
   "source": [
    "compare_models_result[\"Linear Regression\"] = result_df.drop(columns=\"fold\").mean().to_dict()"
   ]
  },
  {
   "cell_type": "markdown",
   "metadata": {},
   "source": [
    "### Random Forest"
   ]
  },
  {
   "cell_type": "code",
   "execution_count": 303,
   "metadata": {},
   "outputs": [
    {
     "name": "stderr",
     "output_type": "stream",
     "text": [
      "  0%|          | 0/5 [00:00<?, ?it/s]"
     ]
    },
    {
     "name": "stderr",
     "output_type": "stream",
     "text": [
      "100%|██████████| 5/5 [00:29<00:00,  5.93s/it]\n"
     ]
    }
   ],
   "source": [
    "drop_cols = categorical_cols + [\"Employment\",\"Salary\",\"DevType\",'OrgSize', 'Age','fold']\n",
    "oof_df = pd.DataFrame()\n",
    "result_dict = {\n",
    "    \"fold\":[],\n",
    "    \"mae\":[],\n",
    "    \"rmse\":[],\n",
    "    \"mape\":[]\n",
    "}\n",
    "\n",
    "for fold in tqdm(range(N_FOLDS)):\n",
    "    train_data = train_df[train_df['fold']!=fold].reset_index(drop=True)\n",
    "    val_data = train_df[train_df['fold']==fold].reset_index(drop=True)\n",
    "\n",
    "    X_train = train_data.drop(columns=drop_cols)\n",
    "    y_train = train_data[target_col]\n",
    "    X_val = val_data.drop(columns=drop_cols)\n",
    "    y_val = val_data[target_col]\n",
    "    \n",
    "\n",
    "    model = RandomForestRegressor(random_state=RANDOM_STATE)\n",
    "    model.fit(X_train, y_train)\n",
    "\n",
    "    prediction = model.predict(X_val)\n",
    "    val_data[\"pred\"] = prediction\n",
    "    oof_df = pd.concat([oof_df,val_data])\n",
    "\n",
    "    mae = mean_absolute_error(y_true=y_val, y_pred=prediction)\n",
    "    mse = mean_squared_error(y_true=y_val, y_pred=prediction)\n",
    "    mape = mean_absolute_percentage_error(y_true=y_val, y_pred=prediction)\n",
    "    result_dict[\"fold\"].append(fold)\n",
    "    result_dict[\"mae\"].append(mae)\n",
    "    result_dict[\"rmse\"].append(mse**(1/2))\n",
    "    result_dict[\"mape\"].append(mape)\n"
   ]
  },
  {
   "cell_type": "code",
   "execution_count": 304,
   "metadata": {},
   "outputs": [
    {
     "data": {
      "text/html": [
       "<div>\n",
       "<style scoped>\n",
       "    .dataframe tbody tr th:only-of-type {\n",
       "        vertical-align: middle;\n",
       "    }\n",
       "\n",
       "    .dataframe tbody tr th {\n",
       "        vertical-align: top;\n",
       "    }\n",
       "\n",
       "    .dataframe thead th {\n",
       "        text-align: right;\n",
       "    }\n",
       "</style>\n",
       "<table border=\"1\" class=\"dataframe\">\n",
       "  <thead>\n",
       "    <tr style=\"text-align: right;\">\n",
       "      <th></th>\n",
       "      <th>fold</th>\n",
       "      <th>mae</th>\n",
       "      <th>rmse</th>\n",
       "      <th>mape</th>\n",
       "    </tr>\n",
       "  </thead>\n",
       "  <tbody>\n",
       "    <tr>\n",
       "      <th>0</th>\n",
       "      <td>0</td>\n",
       "      <td>27045.36</td>\n",
       "      <td>37762.80</td>\n",
       "      <td>13.50</td>\n",
       "    </tr>\n",
       "    <tr>\n",
       "      <th>1</th>\n",
       "      <td>1</td>\n",
       "      <td>27106.77</td>\n",
       "      <td>37690.90</td>\n",
       "      <td>32.25</td>\n",
       "    </tr>\n",
       "    <tr>\n",
       "      <th>2</th>\n",
       "      <td>2</td>\n",
       "      <td>27343.37</td>\n",
       "      <td>38641.74</td>\n",
       "      <td>7.16</td>\n",
       "    </tr>\n",
       "    <tr>\n",
       "      <th>3</th>\n",
       "      <td>3</td>\n",
       "      <td>26886.70</td>\n",
       "      <td>37913.84</td>\n",
       "      <td>30.90</td>\n",
       "    </tr>\n",
       "    <tr>\n",
       "      <th>4</th>\n",
       "      <td>4</td>\n",
       "      <td>27204.32</td>\n",
       "      <td>37864.17</td>\n",
       "      <td>19.63</td>\n",
       "    </tr>\n",
       "  </tbody>\n",
       "</table>\n",
       "</div>"
      ],
      "text/plain": [
       "   fold       mae      rmse   mape\n",
       "0     0  27045.36  37762.80  13.50\n",
       "1     1  27106.77  37690.90  32.25\n",
       "2     2  27343.37  38641.74   7.16\n",
       "3     3  26886.70  37913.84  30.90\n",
       "4     4  27204.32  37864.17  19.63"
      ]
     },
     "execution_count": 304,
     "metadata": {},
     "output_type": "execute_result"
    }
   ],
   "source": [
    "result_df = pd.DataFrame(result_dict)\n",
    "result_df"
   ]
  },
  {
   "cell_type": "code",
   "execution_count": 305,
   "metadata": {},
   "outputs": [],
   "source": [
    "compare_models_result[\"Random Forest\"] = result_df.drop(columns=\"fold\").mean().to_dict()"
   ]
  },
  {
   "cell_type": "markdown",
   "metadata": {},
   "source": [
    "### LightGBM"
   ]
  },
  {
   "cell_type": "code",
   "execution_count": 306,
   "metadata": {},
   "outputs": [],
   "source": [
    "params = {\n",
    "    'random_state': RANDOM_STATE,\n",
    "    'objective': 'regression',\n",
    "    'metric': 'rmse',\n",
    "    'learning_rate': 0.05,\n",
    "    'max_depth': 5,\n",
    "    \"verbose\":-1\n",
    "}"
   ]
  },
  {
   "cell_type": "code",
   "execution_count": 307,
   "metadata": {},
   "outputs": [
    {
     "name": "stdout",
     "output_type": "stream",
     "text": [
      "[20]\tvalid_0's rmse: 38729.3\n",
      "[40]\tvalid_0's rmse: 35291.7\n",
      "[60]\tvalid_0's rmse: 34493.6\n",
      "[80]\tvalid_0's rmse: 34216.7\n",
      "[100]\tvalid_0's rmse: 34107.8\n",
      "[20]\tvalid_0's rmse: 38624.3\n",
      "[40]\tvalid_0's rmse: 35217.4\n",
      "[60]\tvalid_0's rmse: 34415.2\n",
      "[80]\tvalid_0's rmse: 34156.7\n",
      "[100]\tvalid_0's rmse: 34049.9\n",
      "[20]\tvalid_0's rmse: 39029.6\n",
      "[40]\tvalid_0's rmse: 35818.3\n",
      "[60]\tvalid_0's rmse: 35102\n",
      "[80]\tvalid_0's rmse: 34899.3\n",
      "[100]\tvalid_0's rmse: 34816.4\n",
      "[20]\tvalid_0's rmse: 39022.2\n",
      "[40]\tvalid_0's rmse: 35689.9\n",
      "[60]\tvalid_0's rmse: 34955.4\n",
      "[80]\tvalid_0's rmse: 34723.7\n",
      "[100]\tvalid_0's rmse: 34637\n",
      "[20]\tvalid_0's rmse: 38698.9\n",
      "[40]\tvalid_0's rmse: 35509\n",
      "[60]\tvalid_0's rmse: 34831.6\n",
      "[80]\tvalid_0's rmse: 34631.8\n",
      "[100]\tvalid_0's rmse: 34553.9\n"
     ]
    }
   ],
   "source": [
    "feature_cols = categorical_cols + numeric_cols\n",
    "oof_df = pd.DataFrame()\n",
    "result_dict = {\n",
    "    \"fold\":[],\n",
    "    \"mae\":[],\n",
    "    \"rmse\":[],\n",
    "    \"mape\":[]\n",
    "}\n",
    "\n",
    "for fold in range(N_FOLDS):\n",
    "    train_data = train_df[train_df['fold']!=fold].reset_index(drop=True)\n",
    "    val_data = train_df[train_df['fold']==fold].reset_index(drop=True)\n",
    "\n",
    "    X_train = train_data[feature_cols]\n",
    "    y_train = train_data[target_col]\n",
    "    X_val = val_data[feature_cols]\n",
    "    y_val = val_data[target_col]\n",
    "    \n",
    "    dtrain = lgb.Dataset(X_train, y_train, categorical_feature=categorical_cols)\n",
    "    dval = lgb.Dataset(X_val, y_val, categorical_feature=categorical_cols)\n",
    "\n",
    "    model = lgb.train(\n",
    "        params,\n",
    "        train_set=dtrain,\n",
    "        valid_sets=dval,\n",
    "        callbacks=[\n",
    "            lgb.log_evaluation(20),\n",
    "            ],\n",
    "        )\n",
    "\n",
    "    prediction = model.predict(X_val)\n",
    "    val_data[\"pred\"] = prediction\n",
    "    oof_df = pd.concat([oof_df,val_data])\n",
    "\n",
    "    mae = mean_absolute_error(y_true=y_val, y_pred=prediction)\n",
    "    mse = mean_squared_error(y_true=y_val, y_pred=prediction)\n",
    "    mape = mean_absolute_percentage_error(y_true=y_val, y_pred=prediction)\n",
    "    result_dict[\"fold\"].append(fold)\n",
    "    result_dict[\"mae\"].append(mae)\n",
    "    result_dict[\"rmse\"].append(mse**(1/2))\n",
    "    result_dict[\"mape\"].append(mape)\n"
   ]
  },
  {
   "cell_type": "code",
   "execution_count": 308,
   "metadata": {},
   "outputs": [
    {
     "data": {
      "text/html": [
       "<div>\n",
       "<style scoped>\n",
       "    .dataframe tbody tr th:only-of-type {\n",
       "        vertical-align: middle;\n",
       "    }\n",
       "\n",
       "    .dataframe tbody tr th {\n",
       "        vertical-align: top;\n",
       "    }\n",
       "\n",
       "    .dataframe thead th {\n",
       "        text-align: right;\n",
       "    }\n",
       "</style>\n",
       "<table border=\"1\" class=\"dataframe\">\n",
       "  <thead>\n",
       "    <tr style=\"text-align: right;\">\n",
       "      <th></th>\n",
       "      <th>fold</th>\n",
       "      <th>mae</th>\n",
       "      <th>rmse</th>\n",
       "      <th>mape</th>\n",
       "    </tr>\n",
       "  </thead>\n",
       "  <tbody>\n",
       "    <tr>\n",
       "      <th>0</th>\n",
       "      <td>0</td>\n",
       "      <td>24498.20</td>\n",
       "      <td>34107.76</td>\n",
       "      <td>11.39</td>\n",
       "    </tr>\n",
       "    <tr>\n",
       "      <th>1</th>\n",
       "      <td>1</td>\n",
       "      <td>24383.80</td>\n",
       "      <td>34049.92</td>\n",
       "      <td>24.86</td>\n",
       "    </tr>\n",
       "    <tr>\n",
       "      <th>2</th>\n",
       "      <td>2</td>\n",
       "      <td>24543.74</td>\n",
       "      <td>34816.42</td>\n",
       "      <td>7.57</td>\n",
       "    </tr>\n",
       "    <tr>\n",
       "      <th>3</th>\n",
       "      <td>3</td>\n",
       "      <td>24789.53</td>\n",
       "      <td>34636.95</td>\n",
       "      <td>29.12</td>\n",
       "    </tr>\n",
       "    <tr>\n",
       "      <th>4</th>\n",
       "      <td>4</td>\n",
       "      <td>24712.97</td>\n",
       "      <td>34553.87</td>\n",
       "      <td>18.50</td>\n",
       "    </tr>\n",
       "  </tbody>\n",
       "</table>\n",
       "</div>"
      ],
      "text/plain": [
       "   fold       mae      rmse   mape\n",
       "0     0  24498.20  34107.76  11.39\n",
       "1     1  24383.80  34049.92  24.86\n",
       "2     2  24543.74  34816.42   7.57\n",
       "3     3  24789.53  34636.95  29.12\n",
       "4     4  24712.97  34553.87  18.50"
      ]
     },
     "execution_count": 308,
     "metadata": {},
     "output_type": "execute_result"
    }
   ],
   "source": [
    "result_df = pd.DataFrame(result_dict)\n",
    "result_df"
   ]
  },
  {
   "cell_type": "code",
   "execution_count": 309,
   "metadata": {},
   "outputs": [
    {
     "data": {
      "text/plain": [
       "{'mae': 24585.64631120385,\n",
       " 'rmse': 34432.98229690315,\n",
       " 'mape': 18.288937854787683}"
      ]
     },
     "execution_count": 309,
     "metadata": {},
     "output_type": "execute_result"
    }
   ],
   "source": [
    "result_df.drop(columns=\"fold\").mean().to_dict()"
   ]
  },
  {
   "cell_type": "code",
   "execution_count": 310,
   "metadata": {},
   "outputs": [],
   "source": [
    "compare_models_result[\"LightGBM\"] = result_df.drop(columns=\"fold\").mean().to_dict()"
   ]
  },
  {
   "cell_type": "markdown",
   "metadata": {},
   "source": [
    "# Result"
   ]
  },
  {
   "cell_type": "code",
   "execution_count": 311,
   "metadata": {},
   "outputs": [],
   "source": [
    "result_df = pd.DataFrame(compare_models_result).round(2)"
   ]
  },
  {
   "cell_type": "code",
   "execution_count": 312,
   "metadata": {},
   "outputs": [
    {
     "data": {
      "text/html": [
       "<style type=\"text/css\">\n",
       "#T_4b6ec_row0_col2, #T_4b6ec_row1_col2, #T_4b6ec_row2_col0 {\n",
       "  background-color: lightgreen;\n",
       "}\n",
       "</style>\n",
       "<table id=\"T_4b6ec\">\n",
       "  <thead>\n",
       "    <tr>\n",
       "      <th class=\"blank level0\" >&nbsp;</th>\n",
       "      <th id=\"T_4b6ec_level0_col0\" class=\"col_heading level0 col0\" >Linear Regression</th>\n",
       "      <th id=\"T_4b6ec_level0_col1\" class=\"col_heading level0 col1\" >Random Forest</th>\n",
       "      <th id=\"T_4b6ec_level0_col2\" class=\"col_heading level0 col2\" >LightGBM</th>\n",
       "    </tr>\n",
       "  </thead>\n",
       "  <tbody>\n",
       "    <tr>\n",
       "      <th id=\"T_4b6ec_level0_row0\" class=\"row_heading level0 row0\" >mae</th>\n",
       "      <td id=\"T_4b6ec_row0_col0\" class=\"data row0 col0\" >25907.810000</td>\n",
       "      <td id=\"T_4b6ec_row0_col1\" class=\"data row0 col1\" >27117.300000</td>\n",
       "      <td id=\"T_4b6ec_row0_col2\" class=\"data row0 col2\" >24585.650000</td>\n",
       "    </tr>\n",
       "    <tr>\n",
       "      <th id=\"T_4b6ec_level0_row1\" class=\"row_heading level0 row1\" >rmse</th>\n",
       "      <td id=\"T_4b6ec_row1_col0\" class=\"data row1 col0\" >35526.530000</td>\n",
       "      <td id=\"T_4b6ec_row1_col1\" class=\"data row1 col1\" >37974.690000</td>\n",
       "      <td id=\"T_4b6ec_row1_col2\" class=\"data row1 col2\" >34432.980000</td>\n",
       "    </tr>\n",
       "    <tr>\n",
       "      <th id=\"T_4b6ec_level0_row2\" class=\"row_heading level0 row2\" >mape</th>\n",
       "      <td id=\"T_4b6ec_row2_col0\" class=\"data row2 col0\" >17.990000</td>\n",
       "      <td id=\"T_4b6ec_row2_col1\" class=\"data row2 col1\" >20.690000</td>\n",
       "      <td id=\"T_4b6ec_row2_col2\" class=\"data row2 col2\" >18.290000</td>\n",
       "    </tr>\n",
       "  </tbody>\n",
       "</table>\n"
      ],
      "text/plain": [
       "<pandas.io.formats.style.Styler at 0x167031be0>"
      ]
     },
     "execution_count": 312,
     "metadata": {},
     "output_type": "execute_result"
    }
   ],
   "source": [
    "result_df.style.highlight_min(color = 'lightgreen', axis=1)"
   ]
  },
  {
   "cell_type": "code",
   "execution_count": 313,
   "metadata": {},
   "outputs": [
    {
     "data": {
      "text/plain": [
       "<lightgbm.basic.Booster at 0x156b894c0>"
      ]
     },
     "execution_count": 313,
     "metadata": {},
     "output_type": "execute_result"
    }
   ],
   "source": [
    "# Save the LightGBM model.\n",
    "train_data = train_df[train_df['fold']!=fold].reset_index(drop=True)\n",
    "X_train = train_data[feature_cols]\n",
    "y_train = train_data[target_col]\n",
    "\n",
    "dtrain = lgb.Dataset(X_train, y_train, categorical_feature=categorical_cols)\n",
    "\n",
    "model = lgb.train(\n",
    "    params,\n",
    "    train_set=dtrain,\n",
    "    callbacks=[\n",
    "        lgb.log_evaluation(20),\n",
    "        ],\n",
    "    )\n",
    "model.save_model(f'model.txt')"
   ]
  },
  {
   "cell_type": "code",
   "execution_count": null,
   "metadata": {},
   "outputs": [],
   "source": []
  },
  {
   "cell_type": "code",
   "execution_count": null,
   "metadata": {},
   "outputs": [],
   "source": []
  }
 ],
 "metadata": {
  "kernelspec": {
   "display_name": "salary-prediction-app",
   "language": "python",
   "name": "python3"
  },
  "language_info": {
   "codemirror_mode": {
    "name": "ipython",
    "version": 3
   },
   "file_extension": ".py",
   "mimetype": "text/x-python",
   "name": "python",
   "nbconvert_exporter": "python",
   "pygments_lexer": "ipython3",
   "version": "3.9.17"
  },
  "orig_nbformat": 4
 },
 "nbformat": 4,
 "nbformat_minor": 2
}
